{
 "cells": [
  {
   "cell_type": "code",
   "execution_count": 73,
   "metadata": {},
   "outputs": [],
   "source": [
    "from plotting import plot\n",
    "import matplotlib.pyplot as plt\n",
    "import matplotlib.axes as ax\n",
    "import numpy as np\n",
    "from image import file2image\n",
    "from math import e, pi\n",
    "import pandas as pd"
   ]
  },
  {
   "cell_type": "code",
   "execution_count": 2,
   "metadata": {},
   "outputs": [],
   "source": [
    "def setZipper(a_set):\n",
    "    \"\"\"\n",
    "    Input: set of complex numbers \n",
    "    Output: list with two elements - 1st is the range of s.real for each s in a_set, and the 2nd is the range of s.imag\n",
    "    To be used for defining x and y for plotting\n",
    "    \"\"\"\n",
    "    return list(zip(*[(n.real, n.imag) for n in a_set]))"
   ]
  },
  {
   "cell_type": "code",
   "execution_count": 3,
   "metadata": {},
   "outputs": [
    {
     "data": {
      "image/png": "[encoded data removed]",
      "text/plain": [
       "<matplotlib.figure.Figure at 0x69b67b0>"
      ]
     },
     "metadata": {},
     "output_type": "display_data"
    }
   ],
   "source": [
    "# Task 1.4.1\n",
    "S = {2 + 2j, 3 + 2j, 1.75 + 1j, 2 + 1j, 2.25 + 1j, 2.5 + 1j, 2.75 + 1j, 3 + 1j, 3.25 + 1j}\n",
    "# plot(S, 4)\n",
    "zipped_S = setZipper(S)\n",
    "x = zipped_S[0]\n",
    "y = zipped_S[1]\n",
    "plt.scatter(x, y)\n",
    "plt.xlim([-2, 5])\n",
    "plt.ylim([-2, 5])\n",
    "plt.axhline(color=\"black\")\n",
    "plt.vlines(0, -100, 100)\n",
    "plt.title(\"Task 1.4.1\")\n",
    "plt.show()\n"
   ]
  },
  {
   "cell_type": "code",
   "execution_count": 4,
   "metadata": {},
   "outputs": [
    {
     "data": {
      "image/png": "[encoded data removed]",
      "text/plain": [
       "<matplotlib.figure.Figure at 0x69b6590>"
      ]
     },
     "metadata": {},
     "output_type": "display_data"
    }
   ],
   "source": [
    "# Task 1.4.3\n",
    "new_S = {e + 1 + 2j for e in S}\n",
    "zipped_new_S = setZipper(new_S)\n",
    "x1 = zipped_new_S[0]\n",
    "y1 = zipped_new_S[1]\n",
    "# plot(new_S, 4)\n",
    "plt.scatter(x, y)\n",
    "plt.scatter(x1, y1)\n",
    "plt.xlim([-5, 6])\n",
    "plt.ylim([-5, 6])\n",
    "plt.axhline(color=\"black\")\n",
    "plt.vlines(0, -100, 100)\n",
    "plt.title(\"Task 1.4.3\")\n",
    "plt.show()"
   ]
  },
  {
   "cell_type": "markdown",
   "metadata": {},
   "source": [
    "#### Problem 1.4.5: \n",
    "** Show that, for any two distinct points z1 and z2, **\n",
    "\n",
    "1) there is a translation that maps z1 to z2\n",
    "\n",
    "2) there is a translation that maps z2 to z1 and\n",
    "\n",
    "3) there is no translation that both maps z1 to z2 AND z2 to z1"
   ]
  },
  {
   "cell_type": "code",
   "execution_count": 5,
   "metadata": {},
   "outputs": [
    {
     "data": {
      "image/png": "[encoded data removed]",
      "text/plain": [
       "<matplotlib.figure.Figure at 0x6a7bbf0>"
      ]
     },
     "metadata": {},
     "output_type": "display_data"
    }
   ],
   "source": [
    "# Problem 1.4.6 \n",
    "# represent the complex number z0 = -3 + 3i using two arrows with their tails located at different points\n",
    "z0 = -3 + 3j\n",
    "z1a = 3 - 3j\n",
    "z1b = -1 + 5j\n",
    "\n",
    "# z0 \n",
    "plt.axhline(color=\"black\")\n",
    "\n",
    "#draw the axis lines\n",
    "plt.vlines(0, -100, 100)\n",
    "plt.scatter(z0.real, z0.imag, color=\"black\")\n",
    "\n",
    "#z1a \n",
    "plt.scatter(z1a.real, z1a.imag, color=\"red\")\n",
    "plt.arrow(z1a.real, z1a.imag, z0.real - z1a.real, z0.imag - z1a.imag, color=\"red\", head_width=0.25,\n",
    "          length_includes_head=True)\n",
    "\n",
    "#z1b\n",
    "plt.scatter(z1b.real, z1b.imag)\n",
    "plt.arrow(z1b.real, z1b.imag, z0.real - z1b.real, z0.imag - z1b.imag, color=\"blue\", head_width=0.25,\n",
    "          length_includes_head=True)\n",
    "plt.xlim([-5, 5])\n",
    "plt.ylim([-5, 6])\n",
    "\n",
    "plt.title(\"Representing -3 + 3i with two different arrows\")\n",
    "plt.show()"
   ]
  },
  {
   "cell_type": "code",
   "execution_count": 6,
   "metadata": {},
   "outputs": [
    {
     "data": {
      "image/png": "[encoded data removed]",
      "text/plain": [
       "<matplotlib.figure.Figure at 0x698eff0>"
      ]
     },
     "metadata": {},
     "output_type": "display_data"
    }
   ],
   "source": [
    "# Task 1.4.7\n",
    "# Scale the points in S by 1/2\n",
    "scaled_S = {0.5 * s for s in S}\n",
    "points = setZipper(scaled_S)\n",
    "x = points[0]\n",
    "y = points[1]\n",
    "\n",
    "plt.scatter(x, y)\n",
    "plt.xlim([-2, 5])\n",
    "plt.ylim([-2, 5])\n",
    "plt.axhline(color=\"black\")\n",
    "plt.vlines(0, -100, 100)\n",
    "plt.title(\"Task 1.4.7 - Scaled Set\")\n",
    "plt.show()"
   ]
  },
  {
   "cell_type": "code",
   "execution_count": 7,
   "metadata": {},
   "outputs": [
    {
     "data": {
      "image/png": "[encoded data removed]",
      "text/plain": [
       "<matplotlib.figure.Figure at 0x698eaf0>"
      ]
     },
     "metadata": {},
     "output_type": "display_data"
    }
   ],
   "source": [
    "# Task 1.4.8\n",
    "# Rotate S by 90 degrees and scale by 1/2\n",
    "scale_rotate_S = {0.5 * (1j * s) for s in S}\n",
    "points = setZipper(scale_rotate_S)\n",
    "x = points[0]\n",
    "y = points[1]\n",
    "\n",
    "# Plot the scaled and rotated points\n",
    "plt.scatter(x, y, color=\"red\")\n",
    "\n",
    "# Plot S again\n",
    "x1 = zipped_S[0]\n",
    "y1 = zipped_S[1]\n",
    "plt.scatter(x1, y1, color=\"blue\")\n",
    "\n",
    "# Set up the chart\n",
    "plt.xlim([-2, 5])\n",
    "plt.ylim([-2, 5])\n",
    "plt.axhline(color=\"black\")\n",
    "plt.vlines(0, -100, 100)\n",
    "plt.title(\"Task 1.4.8 - Scaled and Rotated\")\n",
    "plt.show()"
   ]
  },
  {
   "cell_type": "code",
   "execution_count": 8,
   "metadata": {},
   "outputs": [
    {
     "data": {
      "image/png": "[encoded data removed]",
      "text/plain": [
       "<matplotlib.figure.Figure at 0x6b25390>"
      ]
     },
     "metadata": {},
     "output_type": "display_data"
    }
   ],
   "source": [
    "# Task 1.4.9\n",
    "# Rotate S by 90 degrees, scale by 1/2, shift down by one unit and to the right by two units\n",
    "\n",
    "# Plot S again\n",
    "plt.scatter(x1, y1, color=\"blue\")\n",
    "\n",
    "# Scale and rotate the points and plot them\n",
    "new_S = {(0.5 * (s * 1j)) + (-1j + 2) for s in S}\n",
    "points = setZipper(new_S)\n",
    "x = points[0]\n",
    "y = points[1]\n",
    "plt.scatter(x, y, color=\"green\")\n",
    "\n",
    "# Set up the chart\n",
    "plt.xlim([-5, 5])\n",
    "plt.ylim([-5, 5])\n",
    "plt.axhline(color=\"black\")\n",
    "plt.vlines(0, -100, 100)\n",
    "plt.title(\"Task 1.4.9 - Scaled and Rotated and Shifted\")\n",
    "plt.show()\n"
   ]
  },
  {
   "cell_type": "code",
   "execution_count": 9,
   "metadata": {},
   "outputs": [],
   "source": [
    "# Task 1.4.9 alternate\n",
    "plot(new_S, 4)"
   ]
  },
  {
   "cell_type": "code",
   "execution_count": 10,
   "metadata": {},
   "outputs": [],
   "source": [
    "# Task 1.4.10\n",
    "# file2image returns a list of lists, where data[y][x] == the pixedl intensity at point x,y\n",
    "data = file2image(\"img01.png\")\n",
    "\n",
    "# pts = {x + y*1j for d in data for y in range(len(d)) for x in range(len(d[y])) for i in d[y] if i < 120 }\n",
    "pts = list({x + (y*-1j) +190j for y in range(len(data)) for x in range(len(data[y])) if data[y][x][0] < 120})\n",
    "\n",
    "\"\"\"\n",
    "# For future reference \n",
    "https://stackoverflow.com/questions/18072759/list-comprehension-on-a-nested-list\n",
    "for y in range(len(data)):\n",
    "    for x in range(len(data[y])):\n",
    "        if data[y][x][0] < 120:\n",
    "            print(x + y * 1j)    \n",
    "\"\"\"\n",
    "plot(pts, 190)"
   ]
  },
  {
   "cell_type": "code",
   "execution_count": 11,
   "metadata": {},
   "outputs": [
    {
     "data": {
      "image/png": "[encoded data removed]",
      "text/plain": [
       "<matplotlib.figure.Figure at 0x980b50>"
      ]
     },
     "metadata": {},
     "output_type": "display_data"
    }
   ],
   "source": [
    "points = set(pts)\n",
    "points = setZipper(points)\n",
    "x = points[0]\n",
    "y = points[1]\n",
    "plt.scatter(x, y, color=\"black\", s=0.1)\n",
    "\n",
    "# Set up the chart\n",
    "plt.xlim([-190, 190])\n",
    "plt.ylim([-190, 190])\n",
    "plt.axhline(color=\"black\")\n",
    "plt.vlines(0, -190, 190)\n",
    "plt.title(\"Face\")\n",
    "plt.show()"
   ]
  },
  {
   "cell_type": "code",
   "execution_count": 12,
   "metadata": {},
   "outputs": [
    {
     "data": {
      "text/plain": [
       "189"
      ]
     },
     "execution_count": 12,
     "metadata": {},
     "output_type": "execute_result"
    }
   ],
   "source": [
    "len(data)"
   ]
  },
  {
   "cell_type": "code",
   "execution_count": 13,
   "metadata": {},
   "outputs": [
    {
     "data": {
      "text/plain": [
       "10.0"
      ]
     },
     "execution_count": 13,
     "metadata": {},
     "output_type": "execute_result"
    }
   ],
   "source": [
    "abs(-10j)"
   ]
  },
  {
   "cell_type": "code",
   "execution_count": 14,
   "metadata": {},
   "outputs": [
    {
     "data": {
      "text/plain": [
       "4.0"
      ]
     },
     "execution_count": 14,
     "metadata": {},
     "output_type": "execute_result"
    }
   ],
   "source": [
    "# plot((1.5j + 2.5j))\n",
    "abs(1.5j + 2.5j)\n",
    "# Solving for the transformation (z is the original point, z0 + z == new point, solve for z0)\n",
    "# z = (1.5j +2.5)\n",
    "# z0 = ?\n",
    "# z0 + z = (0j + 0)"
   ]
  },
  {
   "cell_type": "code",
   "execution_count": 15,
   "metadata": {},
   "outputs": [
    {
     "data": {
      "text/plain": [
       "{(1.75+1j),\n",
       " (2+1j),\n",
       " (2+2j),\n",
       " (2.25+1j),\n",
       " (2.5+1j),\n",
       " (2.75+1j),\n",
       " (3+1j),\n",
       " (3+2j),\n",
       " (3.25+1j)}"
      ]
     },
     "execution_count": 15,
     "metadata": {},
     "output_type": "execute_result"
    }
   ],
   "source": [
    "S"
   ]
  },
  {
   "cell_type": "code",
   "execution_count": 16,
   "metadata": {},
   "outputs": [],
   "source": [
    "# Task 1.4.11\n",
    "def f(z):\n",
    "    \"\"\"\n",
    "    arg: complex number\n",
    "    output: transforms the point so that the set it is part of is centered around the origin\n",
    "    \"\"\"\n",
    "    return z - 1.5j - 2.5\n",
    "S_center = {f(s) for s in S}\n",
    "plot(S_center, 4)"
   ]
  },
  {
   "cell_type": "code",
   "execution_count": 17,
   "metadata": {},
   "outputs": [
    {
     "data": {
      "image/png": "[encoded data removed]",
      "text/plain": [
       "<matplotlib.figure.Figure at 0x6b3c1d0>"
      ]
     },
     "metadata": {},
     "output_type": "display_data"
    }
   ],
   "source": [
    "# Task 1.4.12\n",
    "# Requirements: Rotate pts by 90 degrees, scale by 1/2, shift down by one unit and to the right by two units\n",
    "# Plot the original face\n",
    "x = points[0]\n",
    "y = points[1]\n",
    "plt.scatter(x, y, color=\"black\", s=0.1)\n",
    "\n",
    "# Rotate and scale the face\n",
    "scale_rotate_pts = {0.5 * (1j * pt) for pt in pts}\n",
    "new_points = setZipper(scale_rotate_pts)\n",
    "x1 = new_points[0]\n",
    "y2 = new_points[1]\n",
    "\n",
    "# Plot the scaled and rotated points\n",
    "plt.scatter(x1, y2, color=\"red\", s=0.1)\n",
    "\n",
    "# Set up the chart\n",
    "plt.xlim([-200, 200])\n",
    "plt.ylim([-50, 200])\n",
    "plt.axhline(color=\"black\")\n",
    "plt.vlines(0, -300, 300)\n",
    "plt.title(\"Task 1.4.12: Old face vs new face\")\n",
    "plt.show()"
   ]
  },
  {
   "cell_type": "code",
   "execution_count": 18,
   "metadata": {},
   "outputs": [],
   "source": [
    "# Task 1.4.13"
   ]
  },
  {
   "cell_type": "code",
   "execution_count": 19,
   "metadata": {},
   "outputs": [
    {
     "data": {
      "image/png": "[encoded data removed]",
      "text/plain": [
       "<matplotlib.figure.Figure at 0x6b46910>"
      ]
     },
     "metadata": {},
     "output_type": "display_data"
    }
   ],
   "source": [
    "# Task 1.4.17\n",
    "from math import e, pi\n",
    "# create a list comprehension on the range 0 through 19 and plot the result \n",
    "# definition of w: w = e ** (2 * pi * 1j / n)\n",
    "l = [e ** (2 * pi * 1j / n) for n in range(1, 20)]\n",
    "l_pts = setZipper(set(l))\n",
    "x = l_pts[0]\n",
    "y = l_pts[1]\n",
    "\n",
    "# Plot the points\n",
    "plt.scatter(x, y, color=\"red\")\n",
    "\n",
    "# Set up the chart\n",
    "plt.xlim([-2, 2])\n",
    "plt.ylim([-2, 2])\n",
    "plt.axhline(color=\"black\")\n",
    "plt.vlines(0, -10, 10)\n",
    "plt.title(\"Task 1.4.17\")\n",
    "plt.show()\n",
    "\n",
    "#QUESTION: w0 generates a divide by zero error."
   ]
  },
  {
   "cell_type": "code",
   "execution_count": 20,
   "metadata": {},
   "outputs": [
    {
     "data": {
      "image/png": "[encoded data removed]",
      "text/plain": [
       "<matplotlib.figure.Figure at 0x6aa46d0>"
      ]
     },
     "metadata": {},
     "output_type": "display_data"
    }
   ],
   "source": [
    "# Task 1.4.18\n",
    "# Write a comprehension whose value is the set consisting of rotations by pi/4 of the elements of S\n",
    "S_1_4_18 = {pi/4 * s for s in S}\n",
    "S_1_4_18 = {(0.5 * (s * 1j)) + (-1j + 2) for s in S}\n",
    "S_1_4_18 = {s * e ** (pi/4 * 1j) for s in S}\n",
    "zipped_S_1_4_18 = setZipper(S_1_4_18)\n",
    "\n",
    "# Plot the original S\n",
    "x = zipped_S[0]\n",
    "y = zipped_S[1]\n",
    "plt.scatter(x, y)\n",
    "\n",
    "# Plot the new S rotated by pi/4\n",
    "x1 = zipped_S_1_4_18[0]\n",
    "y1 = zipped_S_1_4_18[1]\n",
    "plt.scatter(x1, y1)\n",
    "plt.xlim([-5, 5])\n",
    "plt.ylim([-2, 5])\n",
    "plt.axhline(color=\"black\")\n",
    "plt.vlines(0, -100, 100)\n",
    "plt.title(\"Task 1.4.18\")\n",
    "plt.show()"
   ]
  },
  {
   "cell_type": "code",
   "execution_count": 21,
   "metadata": {},
   "outputs": [
    {
     "data": {
      "image/png": "[encoded data removed]",
      "text/plain": [
       "<matplotlib.figure.Figure at 0x6a448d0>"
      ]
     },
     "metadata": {},
     "output_type": "display_data"
    }
   ],
   "source": [
    "# Task 1.4.19\n",
    "# Rotate the face by pi/4\n",
    "\n",
    "# Plot the original face\n",
    "x = points[0]\n",
    "y = points[1]\n",
    "plt.scatter(x, y, color=\"black\", s=0.1)\n",
    "\n",
    "# Rotate and scale the face\n",
    "points_1_14_19 = {pt * e ** (pi/4 * 1j) for pt in pts}\n",
    "zip_points_1_14_19 = setZipper(points_1_14_19)\n",
    "x1 = zip_points_1_14_19[0]\n",
    "y2 = zip_points_1_14_19[1]\n",
    "\n",
    "# Plot the scaled and rotated points\n",
    "plt.scatter(x1, y2, color=\"red\", s=0.1)\n",
    "\n",
    "# Set up the chart\n",
    "plt.xlim([-200, 200])\n",
    "plt.ylim([-50, 200])\n",
    "plt.axhline(color=\"black\")\n",
    "plt.vlines(0, -300, 300)\n",
    "plt.title(\"Task 1.4.19: Old face vs rotated face\")\n",
    "plt.show()"
   ]
  },
  {
   "cell_type": "code",
   "execution_count": 22,
   "metadata": {},
   "outputs": [
    {
     "data": {
      "image/png": "[encoded data removed]",
      "text/plain": [
       "<matplotlib.figure.Figure at 0x6ac7cb0>"
      ]
     },
     "metadata": {},
     "output_type": "display_data"
    }
   ],
   "source": [
    "# Task 1.4.20\n",
    "\"\"\"\n",
    "Write a comprehension that transforms the set pts by translating it so the image is centered, then rotating it by pi/4,\n",
    "then rotating it by 4, then scaling it by half\n",
    "\"\"\"\n",
    "\n",
    "# Plot the original face\n",
    "x = points[0]\n",
    "y = points[1]\n",
    "plt.scatter(x, y, color=\"black\", s=0.1)\n",
    "\n",
    "# Determine the center of the original face\n",
    "# Since the len of data is 189, the center should be 189/2 aka 94.5, 94.5\n",
    "\n",
    "def center_face(z):\n",
    "    \"\"\"\n",
    "    arg: complex number\n",
    "    output: transforms the point so that the set it is part of is centered around the origin\n",
    "    \"\"\"\n",
    "    #return z - 94.5j - 94.5\n",
    "    return z - 80j - 82\n",
    "\n",
    "# Rotate and scale the face\n",
    "points_1_14_20 = {center_face(pt) * e ** (pi/4 * 1j) * 0.5 for pt in pts}\n",
    "zip_points_1_14_20 = setZipper(points_1_14_20)\n",
    "x1 = zip_points_1_14_20[0]\n",
    "y1 = zip_points_1_14_20[1]\n",
    "\n",
    "# Plot the scaled and rotated points\n",
    "plt.scatter(x1, y1, color=\"red\", s=0.1)\n",
    "\n",
    "# Set up the chart\n",
    "plt.xlim([-200, 200])\n",
    "plt.ylim([-50, 200])\n",
    "plt.axhline(color=\"black\")\n",
    "plt.vlines(0, -300, 300)\n",
    "plt.title(\"Task 1.4.20: Old face vs centered rotated scaled face\")\n",
    "plt.show()"
   ]
  },
  {
   "cell_type": "code",
   "execution_count": 23,
   "metadata": {},
   "outputs": [
    {
     "data": {
      "text/plain": [
       "189"
      ]
     },
     "execution_count": 23,
     "metadata": {},
     "output_type": "execute_result"
    }
   ],
   "source": [
    "len(data)"
   ]
  },
  {
   "cell_type": "code",
   "execution_count": 72,
   "metadata": {},
   "outputs": [
    {
     "name": "stdout",
     "output_type": "stream",
     "text": [
      "V\n",
      "E\n",
      "V\n",
      "L\n",
      "Z\n",
      "D\n",
      "L\n",
      "V\n",
      "E\n",
      "Z\n",
      " \n"
     ]
    },
    {
     "data": {
      "text/plain": [
       "' '"
      ]
     },
     "execution_count": 72,
     "metadata": {},
     "output_type": "execute_result"
    }
   ],
   "source": [
    "# Problem 1.5.1\n",
    "\"\"\"\n",
    "11 symbol msg. Each symbol is represented by a number. Each number is represented by a 5 bit binary sequene,\n",
    "0 -> 00000\n",
    "1 -> 00001\n",
    "[...]\n",
    "26 -> 11010\n",
    "Resulting sequence of 55 bits i encrypted using 11 copies of the same sequence of 5 random bits\n",
    "\"\"\"\n",
    "cyphertext = \"10101 00100 10101 01011 11001 00011 01011 10101 00100 11001 11010\"\n",
    "\n",
    "def binaryConverter(binary_num):\n",
    "    num = 0\n",
    "    binary = [16 ,8 , 4 , 2 , 1]\n",
    "    if type(binary_num) == int:\n",
    "        binary_num = str(binary_num)\n",
    "    i = 0\n",
    "    #print(binary_num)\n",
    "    for b in binary_num:\n",
    "        if int(b) == True:\n",
    "            num += binary[i]\n",
    "        i += 1\n",
    "    return num\n",
    "\n",
    "letters = \"A B C D E F G H I J K L M N O P Q R S T U V W X Y Z \"\n",
    "keys = range(27)\n",
    "vals = letters.split()\n",
    "vals.append(\" \")\n",
    "letter_dict = dict(zip(keys, vals))\n",
    "\n",
    "def numConverter(num):\n",
    "    if type(num) == str:\n",
    "        num = int(num)\n",
    "    return letter_dict[num]\n",
    "\n",
    "split_cypher = cyphertext.split()\n",
    "for s in split_cypher:\n",
    "    #print(binaryConverter(s))\n",
    "    print(numConverter(binaryConverter(s)))\n",
    "#binaryConverter(split_cypher[0])\n",
    "\n",
    "def numToAlpha(num):\n",
    "    start = 65 # the letter 'A'\n",
    "    for r in range(27):\n",
    "        start + r\n",
    "        "
   ]
  },
  {
   "cell_type": "code",
   "execution_count": 90,
   "metadata": {},
   "outputs": [
    {
     "data": {
      "text/plain": [
       "32"
      ]
     },
     "execution_count": 90,
     "metadata": {},
     "output_type": "execute_result"
    }
   ],
   "source": [
    "ord(\" \")"
   ]
  },
  {
   "cell_type": "code",
   "execution_count": 89,
   "metadata": {},
   "outputs": [
    {
     "data": {
      "text/plain": [
       "' '"
      ]
     },
     "execution_count": 89,
     "metadata": {},
     "output_type": "execute_result"
    }
   ],
   "source": [
    "chr(32)"
   ]
  },
  {
   "cell_type": "code",
   "execution_count": 87,
   "metadata": {},
   "outputs": [
    {
     "data": {
      "text/plain": [
       "'Z'"
      ]
     },
     "execution_count": 87,
     "metadata": {},
     "output_type": "execute_result"
    }
   ],
   "source": [
    "chr(65+25)"
   ]
  },
  {
   "cell_type": "code",
   "execution_count": 88,
   "metadata": {},
   "outputs": [
    {
     "data": {
      "text/plain": [
       "90"
      ]
     },
     "execution_count": 88,
     "metadata": {},
     "output_type": "execute_result"
    }
   ],
   "source": [
    "65+25"
   ]
  },
  {
   "cell_type": "code",
   "execution_count": 80,
   "metadata": {},
   "outputs": [
    {
     "data": {
      "text/html": [
       "<div>\n",
       "<style scoped>\n",
       "    .dataframe tbody tr th:only-of-type {\n",
       "        vertical-align: middle;\n",
       "    }\n",
       "\n",
       "    .dataframe tbody tr th {\n",
       "        vertical-align: top;\n",
       "    }\n",
       "\n",
       "    .dataframe thead th {\n",
       "        text-align: right;\n",
       "    }\n",
       "</style>\n",
       "<table border=\"1\" class=\"dataframe\">\n",
       "  <thead>\n",
       "    <tr style=\"text-align: right;\">\n",
       "      <th></th>\n",
       "      <th>0 is A</th>\n",
       "      <th>0 is B</th>\n",
       "      <th>0 is C</th>\n",
       "      <th>0 is D</th>\n",
       "      <th>0 is E</th>\n",
       "      <th>0 is F</th>\n",
       "      <th>0 is G</th>\n",
       "      <th>0 is H</th>\n",
       "      <th>0 is I</th>\n",
       "      <th>0 is J</th>\n",
       "      <th>...</th>\n",
       "      <th>0 is R</th>\n",
       "      <th>0 is S</th>\n",
       "      <th>0 is T</th>\n",
       "      <th>0 is U</th>\n",
       "      <th>0 is V</th>\n",
       "      <th>0 is W</th>\n",
       "      <th>0 is X</th>\n",
       "      <th>0 is Y</th>\n",
       "      <th>0 is Z</th>\n",
       "      <th>0 is</th>\n",
       "    </tr>\n",
       "  </thead>\n",
       "  <tbody>\n",
       "  </tbody>\n",
       "</table>\n",
       "<p>0 rows × 27 columns</p>\n",
       "</div>"
      ],
      "text/plain": [
       "Empty DataFrame\n",
       "Columns: [0 is A, 0 is B, 0 is C, 0 is D, 0 is E, 0 is F, 0 is G, 0 is H, 0 is I, 0 is J, 0 is K, 0 is L, 0 is M, 0 is N, 0 is O, 0 is P, 0 is Q, 0 is R, 0 is S, 0 is T, 0 is U, 0 is V, 0 is W, 0 is X, 0 is Y, 0 is Z, 0 is  ]\n",
       "Index: []\n",
       "\n",
       "[0 rows x 27 columns]"
      ]
     },
     "execution_count": 80,
     "metadata": {},
     "output_type": "execute_result"
    }
   ],
   "source": [
    "col_name_base = \"0 is \"\n",
    "col_names = [col_name_base + v for v in vals]\n",
    "#col_names\n",
    "df = pd.DataFrame(columns=col_names)\n",
    "df"
   ]
  },
  {
   "cell_type": "code",
   "execution_count": 25,
   "metadata": {},
   "outputs": [
    {
     "data": {
      "text/plain": [
       "[11, 337]"
      ]
     },
     "execution_count": 25,
     "metadata": {},
     "output_type": "execute_result"
    }
   ],
   "source": [
    "# Problem 1.7.1\n",
    "\"\"\"\n",
    "input: list of numbers and a positive integer\n",
    "output: list of numbers not containing a multiple of num\n",
    "ex: list = [1, 2, 4, 5, 7]; num = 2; return [1, 5, 7]\n",
    "\"\"\"\n",
    "def my_filter(L, num):\n",
    "    return [l for l in L if l % num > 0]\n",
    "#test_list = [1, 2, 4, 5, 7]\n",
    "test_list = [11, 337, 4, 8, 10]\n",
    "num = 2\n",
    "my_filter(test_list, num)"
   ]
  },
  {
   "cell_type": "code",
   "execution_count": 26,
   "metadata": {},
   "outputs": [
    {
     "data": {
      "text/plain": [
       "[[1], [1, 2], [1, 2, 3, 4]]"
      ]
     },
     "execution_count": 26,
     "metadata": {},
     "output_type": "execute_result"
    }
   ],
   "source": [
    "# Problem 1.7.2\n",
    "\"\"\"\n",
    "input: list of non-negative integers\n",
    "output: list of lists - for every element x in L create a list containing 1,2, ..., x\n",
    "ex: list = [1, 2, 4]; return [[1], [1, 2], [1, 2, 3, 4]]; list = [0]; return [[]]\n",
    "\"\"\"\n",
    "def my_lists(L):\n",
    "    return [list(range(1, l + 1)) if l > 0 else []for l in L]\n",
    "test_list2 = [1, 2, 4]\n",
    "my_lists(test_list2)"
   ]
  },
  {
   "cell_type": "code",
   "execution_count": 27,
   "metadata": {},
   "outputs": [
    {
     "data": {
      "text/plain": [
       "[[]]"
      ]
     },
     "execution_count": 27,
     "metadata": {},
     "output_type": "execute_result"
    }
   ],
   "source": [
    "test_list2a = [0]\n",
    "my_lists(test_list2a)"
   ]
  },
  {
   "cell_type": "code",
   "execution_count": 28,
   "metadata": {},
   "outputs": [
    {
     "data": {
      "text/plain": [
       "{0: 'apple', 1: 'banana'}"
      ]
     },
     "execution_count": 28,
     "metadata": {},
     "output_type": "execute_result"
    }
   ],
   "source": [
    "# Problem 1.7.3\n",
    "\"\"\"\n",
    "input: two functions f and g, represented as dictionaries, such that g o f exists \n",
    "output: dictionary that represents the function g o f\n",
    "ex: given f = {0:'a', 1:'b'} and g = {'a': 'apple', 'b': 'banana'}, return {0:'apple', 1:'banana'}\n",
    "\"\"\"\n",
    "def my_function_composition(f, g):\n",
    "    #return {g[f[v]] for v in f}\n",
    "    #return { val:k for val in g for k in [k for k in f]}\n",
    "    # take the keys of f and assign the values of g to them\n",
    "    #return {k:val for k in [k for k in f] for val in g[f[k]] }\n",
    "    return {k:g[f[k]] for k in [k for k in f]}\n",
    "\n",
    "f = {0:'a', 1:'b'}\n",
    "g = {'a': 'apple', 'b': 'banana'}\n",
    "my_function_composition(f, g)"
   ]
  },
  {
   "cell_type": "code",
   "execution_count": 29,
   "metadata": {},
   "outputs": [
    {
     "data": {
      "text/plain": [
       "'\\nformat for 1.7.4 - 1.7.8\\ndef <ProcedureName>(L):\\n    current = ...\\n    for x in L:\\n        current = ...\\n    return current\\n'"
      ]
     },
     "execution_count": 29,
     "metadata": {},
     "output_type": "execute_result"
    }
   ],
   "source": [
    "\"\"\"\n",
    "format for 1.7.4 - 1.7.8\n",
    "def <ProcedureName>(L):\n",
    "    current = ...\n",
    "    for x in L:\n",
    "        current = ...\n",
    "    return current\n",
    "\"\"\""
   ]
  },
  {
   "cell_type": "code",
   "execution_count": 30,
   "metadata": {},
   "outputs": [
    {
     "data": {
      "text/plain": [
       "6"
      ]
     },
     "execution_count": 30,
     "metadata": {},
     "output_type": "execute_result"
    }
   ],
   "source": [
    "# Problem 1.7.4\n",
    "\"\"\"\n",
    "Input: List of numbers \n",
    "Output: sum of numbers in the list \n",
    "\"\"\"\n",
    "def mySum(L):\n",
    "    current = 0 \n",
    "    for l in L:\n",
    "        current += l\n",
    "    return current\n",
    "test_list_174 = [1, 2, 3]\n",
    "mySum(test_list_174)"
   ]
  },
  {
   "cell_type": "code",
   "execution_count": 31,
   "metadata": {},
   "outputs": [
    {
     "name": "stdout",
     "output_type": "stream",
     "text": [
      "6\n",
      "0\n"
     ]
    }
   ],
   "source": [
    "# Problem 1.7.5 \n",
    "\"\"\"\n",
    "Input: list of numbers\n",
    "Output: product of numbers in the list \n",
    "\"\"\"\n",
    "def myProduct(L):\n",
    "    current = 1 \n",
    "    for l in L:\n",
    "        current *= l\n",
    "    return current\n",
    "test_list_175a = [1, 2, 3]\n",
    "test_list_175b = []\n",
    "print(mySum(test_list_175a))\n",
    "print(mySum(test_list_175b))"
   ]
  },
  {
   "cell_type": "code",
   "execution_count": 32,
   "metadata": {
    "scrolled": true
   },
   "outputs": [
    {
     "name": "stdout",
     "output_type": "stream",
     "text": [
      "-542\n",
      "None\n"
     ]
    }
   ],
   "source": [
    "# Problem 1.7.6\n",
    "\"\"\"\n",
    "input: list of numbers\n",
    "output: minimum number in the list\n",
    "\"\"\"\n",
    "def myMin(L):\n",
    "    current = None\n",
    "    for n in L:\n",
    "        if current == None:\n",
    "            current = n\n",
    "        else:\n",
    "            if n < current: current = n \n",
    "    return current\n",
    "test_list_176a = [771, -542, 1213]\n",
    "test_list_176b = []\n",
    "print(myMin(test_list_176a))\n",
    "print(myMin(test_list_176b))"
   ]
  },
  {
   "cell_type": "code",
   "execution_count": 33,
   "metadata": {},
   "outputs": [
    {
     "name": "stdout",
     "output_type": "stream",
     "text": [
      "helloworldhey\n",
      "\n"
     ]
    }
   ],
   "source": [
    "# Problem 1.7.7\n",
    "\"\"\"\n",
    "input: list of strings\n",
    "output: concatenation of all the strings in L\n",
    "\"\"\"\n",
    "def myConcat(L):\n",
    "    current = ''\n",
    "    for s in L:\n",
    "        current += s\n",
    "    return current\n",
    "test_list_177a = [\"hello\", \"world\", \"hey\"]\n",
    "test_list_177b = []\n",
    "print(myConcat(test_list_177a))\n",
    "print(myConcat(test_list_177b))"
   ]
  },
  {
   "cell_type": "code",
   "execution_count": 34,
   "metadata": {},
   "outputs": [
    {
     "name": "stdout",
     "output_type": "stream",
     "text": [
      "{99, 4, 5, 100, -569}\n",
      "set()\n"
     ]
    }
   ],
   "source": [
    "# Problem 1.7.8\n",
    "\"\"\"\n",
    "input: list of sets\n",
    "output: the union of all sets in L\n",
    "\"\"\"\n",
    "def myUnion(L):\n",
    "    current = set()\n",
    "    for a_set in L:\n",
    "        current.update(a_set)\n",
    "    return current\n",
    "test_list_178a = [{4, 5}, {4}, {99, 100, -569}]\n",
    "test_list_178b = [{}, {}]\n",
    "print(myUnion(test_list_178a))\n",
    "print(myUnion(test_list_178b))"
   ]
  },
  {
   "cell_type": "code",
   "execution_count": 35,
   "metadata": {},
   "outputs": [],
   "source": [
    "# Problem 1.7.9\n",
    "# 1) the sum of numbers in an empty set is 0\n",
    "# 2) the product of numbers in an empty set is 0\n",
    "# 3) The minimum of empty numbers in a set should be...0?\n",
    "# 4) The concactenation of an empty set of strings is ''\n",
    "# 5) the Union of an empty set of lists is {}\n",
    "# What goes wrong when we try to apply this reasoning to define the intersction of an empty list of sets? Not sure"
   ]
  },
  {
   "cell_type": "code",
   "execution_count": 36,
   "metadata": {},
   "outputs": [
    {
     "data": {
      "text/plain": [
       "set()"
      ]
     },
     "execution_count": 36,
     "metadata": {},
     "output_type": "execute_result"
    }
   ],
   "source": [
    "set()|set()"
   ]
  },
  {
   "cell_type": "code",
   "execution_count": 37,
   "metadata": {},
   "outputs": [],
   "source": [
    "# Problem 1.7.10\n",
    "# The sum of two complex numbers\n",
    "\"\"\"\n",
    "Creating a function to make the plots\n",
    "\"\"\"\n",
    "def plot_complex_add(z0, z1):\n",
    "    \"\"\"\n",
    "    args: two complex numbers\n",
    "    output: a plot depicting arrows depicting the addition of the two numbers\n",
    "    \"\"\"\n",
    "    # z0 \n",
    "    plt.axhline(color=\"black\")\n",
    "\n",
    "    #draw the axis lines\n",
    "    plt.vlines(0, -100, 100)\n",
    "    plt.scatter(z0.real, z0.imag, color=\"black\")\n",
    "\n",
    "    #z1\n",
    "    plt.arrow(z0.real, z0.imag, z1.real, z1.imag, color=\"blue\", head_width=0.25,\n",
    "              length_includes_head=True)\n",
    "    \n",
    "    #sum of the addition\n",
    "    plt.scatter(z0.real + z1.real, z0.imag + z1.imag, color=\"blue\")\n",
    "\n",
    "    # define the  plot boundaries\n",
    "    min_x = min(z0.real, z1.real, (z0.real + z1.real)) - 1\n",
    "    max_x = max(z0.real, z1.real, (z0.real + z1.real)) + 1\n",
    "    min_y = min(z0.imag, z1.imag, (z0.imag + z1.imag)) - 1\n",
    "    max_y = max(z0.imag, z1.imag, (z0.imag + z1.imag)) + 1\n",
    "    \n",
    "    plt.xlim([min_x, max_x])\n",
    "    plt.ylim([min_y, max_y])\n",
    "\n",
    "\n",
    "    plt.title(str(z0) + \" + \" + str(z1))\n",
    "    plt.show()\n"
   ]
  },
  {
   "cell_type": "code",
   "execution_count": 38,
   "metadata": {
    "scrolled": true
   },
   "outputs": [
    {
     "data": {
      "image/png": "[encoded data removed]",
      "text/plain": [
       "<matplotlib.figure.Figure at 0x69f7890>"
      ]
     },
     "metadata": {},
     "output_type": "display_data"
    }
   ],
   "source": [
    "# Problem 1.7.10a\n",
    "# Sum of (3 + 1i) + (2 + 2i)\n",
    "z0 = 3 + 1j\n",
    "z1 = 2 + 2j\n",
    "\n",
    "plot_complex_add(z0, z1)"
   ]
  },
  {
   "cell_type": "code",
   "execution_count": 39,
   "metadata": {},
   "outputs": [
    {
     "data": {
      "image/png": "[encoded data removed]",
      "text/plain": [
       "<matplotlib.figure.Figure at 0x6a44c10>"
      ]
     },
     "metadata": {},
     "output_type": "display_data"
    }
   ],
   "source": [
    "# Problem 1.7.10b\n",
    "# Sum of (-1 + 2i) + (1 - 1i)\n",
    "z0 = -1 + 2j\n",
    "z1 = 1 - 1j\n",
    "\n",
    "plot_complex_add(z0, z1)"
   ]
  },
  {
   "cell_type": "code",
   "execution_count": 40,
   "metadata": {},
   "outputs": [
    {
     "data": {
      "image/png": "[encoded data removed]",
      "text/plain": [
       "<matplotlib.figure.Figure at 0x8ea1250>"
      ]
     },
     "metadata": {},
     "output_type": "display_data"
    }
   ],
   "source": [
    "# Problem 1.7.10c\n",
    "# Sum of (2 + 0i) + (-3 + 0.001i)\n",
    "z0 = 2 + 0j\n",
    "z1 = -3 + 0.001j\n",
    "\n",
    "plot_complex_add(z0, z1)"
   ]
  },
  {
   "cell_type": "code",
   "execution_count": 41,
   "metadata": {},
   "outputs": [
    {
     "data": {
      "image/png": "[encoded data removed]",
      "text/plain": [
       "<matplotlib.figure.Figure at 0x8ecbff0>"
      ]
     },
     "metadata": {},
     "output_type": "display_data"
    }
   ],
   "source": [
    "# Problem 1.7.10d\n",
    "# Sum of 4(0 + 2i) + (0.001 + 1i)\n",
    "z0 = 4 * (0 + 2j)\n",
    "z1 = 0.001 + 1j\n",
    "\n",
    "plot_complex_add(z0, z1)"
   ]
  },
  {
   "cell_type": "code",
   "execution_count": 42,
   "metadata": {},
   "outputs": [
    {
     "data": {
      "text/plain": [
       "(-1.1102230246251565e-16+8.326672684688674e-17j)"
      ]
     },
     "execution_count": 42,
     "metadata": {},
     "output_type": "execute_result"
    }
   ],
   "source": [
    "# Problem 1.7.11\n",
    "# First Rule of Exponentiation\n",
    "# Problem 1.7.11a\n",
    "((e ** 1j) * (e ** 2j)) - e ** 3j\n",
    "# In python it seems that e ** 1j * e ** 2j does not quite equal e ** 3j; floating point errors?"
   ]
  },
  {
   "cell_type": "code",
   "execution_count": 43,
   "metadata": {},
   "outputs": [
    {
     "data": {
      "text/plain": [
       "(1.1102230246251565e-16+0j)"
      ]
     },
     "execution_count": 43,
     "metadata": {},
     "output_type": "execute_result"
    }
   ],
   "source": [
    "# Problem 1.7.11b\n",
    "((e ** ((pi/4)*1j)) * (e ** ((2*pi/3)*1j))) - e ** ((11*pi/12)*1j)"
   ]
  },
  {
   "cell_type": "code",
   "execution_count": 44,
   "metadata": {},
   "outputs": [
    {
     "data": {
      "text/plain": [
       "(-0.9659258262890681+0.258819045102521j)"
      ]
     },
     "execution_count": 44,
     "metadata": {},
     "output_type": "execute_result"
    }
   ],
   "source": [
    "((e ** ((pi/4)*1j)) * (e ** ((2*pi/3)*1j)))"
   ]
  },
  {
   "cell_type": "code",
   "execution_count": 45,
   "metadata": {
    "scrolled": true
   },
   "outputs": [
    {
     "data": {
      "text/plain": [
       "(-0.9659258262890682+0.258819045102521j)"
      ]
     },
     "execution_count": 45,
     "metadata": {},
     "output_type": "execute_result"
    }
   ],
   "source": [
    "e ** ((11*pi/12)*1j)"
   ]
  },
  {
   "cell_type": "code",
   "execution_count": 46,
   "metadata": {},
   "outputs": [
    {
     "data": {
      "text/plain": [
       "(1.1248444488869596+0.46592582628906826j)"
      ]
     },
     "execution_count": 46,
     "metadata": {},
     "output_type": "execute_result"
    }
   ],
   "source": [
    "# Problem 1.7.11c - NEED TO FINISH\n",
    "((e ** (-1 * (pi/4)*1j)) * (e ** ((2*pi/3)*1j))) - e ** ((10*pi/12)*1j)"
   ]
  },
  {
   "cell_type": "code",
   "execution_count": 47,
   "metadata": {},
   "outputs": [],
   "source": [
    "# Problem 1.7.12\n",
    "def transform(a, b, L):\n",
    "    \"\"\"\n",
    "    input: complex numbers a, b, and a list of complex numbers \n",
    "    output: the list of complex numbers obtained by applying f(z) = az + b to each complex num in L\n",
    "    \"\"\"\n",
    "    return [a * z + b for z in L]\n",
    "\n",
    "def createPts(L):\n",
    "    x = []\n",
    "    y = []\n",
    "    for num in L:\n",
    "        x.append(num.real)\n",
    "        y.append(num.imag)\n",
    "    return [x, y]\n",
    "\n",
    "def plot_complex_list(complexList, a, b):\n",
    "    original = createPts(complexList)\n",
    "    x0 = original[0]\n",
    "    y0 = original[1]\n",
    "    \n",
    "    transformedList = transform(a, b, complexList)\n",
    "    \n",
    "    new = createPts(transformedList)\n",
    "    x1 = new[0]\n",
    "    y1 = new[1]\n",
    "    \n",
    "    plt.scatter(x0, y0)\n",
    "    plt.scatter(x1, y1)\n",
    "    plt.show()"
   ]
  },
  {
   "cell_type": "code",
   "execution_count": 48,
   "metadata": {},
   "outputs": [
    {
     "data": {
      "image/png": "[encoded data removed]",
      "text/plain": [
       "<matplotlib.figure.Figure at 0x8e12530>"
      ]
     },
     "metadata": {},
     "output_type": "display_data"
    }
   ],
   "source": [
    "testList = [(0 + 0j), (2 + 2j), (2 +0j), (0 + 2j)]\n",
    "plot_complex_list(testList, 2j, 1)\n",
    "#transform(testList)"
   ]
  },
  {
   "cell_type": "code",
   "execution_count": 49,
   "metadata": {},
   "outputs": [
    {
     "data": {
      "text/plain": [
       "[(1+0j), (-1+2j), (1+2j), (-1+0j)]"
      ]
     },
     "execution_count": 49,
     "metadata": {},
     "output_type": "execute_result"
    }
   ],
   "source": [
    "# Problem 1.7.12a\n",
    "\"\"\"\n",
    "Translate z one unit up and one unit to the right, then rotate 90 degrees clockwise, then scale by 2\n",
    "\"\"\"\n",
    "transform(1j, 1, [(0 + 0j), (2 + 2j), (2 +0j), (0 + 2j)])"
   ]
  },
  {
   "cell_type": "code",
   "execution_count": null,
   "metadata": {},
   "outputs": [],
   "source": [
    "# Problem 1.7.12b\n",
    "\"\"\"\n",
    "Scale the real part by two and the imaginary part by three, then rotate 45 degrees counterclockwise, then translate down\n",
    "two units and left three units\n",
    "\"\"\""
   ]
  },
  {
   "cell_type": "code",
   "execution_count": 29,
   "metadata": {},
   "outputs": [],
   "source": [
    "# Problem 1.7.13"
   ]
  },
  {
   "cell_type": "code",
   "execution_count": 30,
   "metadata": {},
   "outputs": [],
   "source": [
    "# Problem 1.7.14"
   ]
  },
  {
   "cell_type": "code",
   "execution_count": 50,
   "metadata": {},
   "outputs": [
    {
     "data": {
      "text/plain": [
       "14"
      ]
     },
     "execution_count": 50,
     "metadata": {},
     "output_type": "execute_result"
    }
   ],
   "source": [
    "len(\"linear algebra\")"
   ]
  }
 ],
 "metadata": {
  "kernelspec": {
   "display_name": "Python 3",
   "language": "python",
   "name": "python3"
  },
  "language_info": {
   "codemirror_mode": {
    "name": "ipython",
    "version": 3
   },
   "file_extension": ".py",
   "mimetype": "text/x-python",
   "name": "python",
   "nbconvert_exporter": "python",
   "pygments_lexer": "ipython3",
   "version": "3.6.3"
  }
 },
 "nbformat": 4,
 "nbformat_minor": 2
}
