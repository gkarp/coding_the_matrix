{
 "cells": [
  {
   "cell_type": "code",
   "execution_count": 58,
   "metadata": {},
   "outputs": [],
   "source": [
    "from plotting import plot\n",
    "import matplotlib.pyplot as plt\n",
    "import matplotlib.axes as ax\n",
    "import numpy as np\n",
    "from image import file2image"
   ]
  },
  {
   "cell_type": "code",
   "execution_count": 3,
   "metadata": {},
   "outputs": [],
   "source": [
    "def setZipper(a_set):\n",
    "    \"\"\"\n",
    "    Input: set of complex numbers \n",
    "    Output: list with two elements - 1st is the range of s.real for each s in a_set, and the 2nd is the range of s.imag\n",
    "    To be used for defining x and y for plotting\n",
    "    \"\"\"\n",
    "    return list(zip(*[(n.real, n.imag) for n in a_set]))"
   ]
  },
  {
   "cell_type": "code",
   "execution_count": 4,
   "metadata": {},
   "outputs": [
    {
     "data": {
      "image/png": "[encoded data removed]",
      "text/plain": [
       "<matplotlib.figure.Figure at 0x74b9290>"
      ]
     },
     "metadata": {},
     "output_type": "display_data"
    }
   ],
   "source": [
    "# Task 1.4.1\n",
    "S = {2 + 2j, 3 + 2j, 1.75 + 1j, 2 + 1j, 2.25 + 1j, 2.5 + 1j, 2.75 + 1j, 3 + 1j, 3.25 + 1j}\n",
    "# plot(S, 4)\n",
    "zipped_S = setZipper(S)\n",
    "x = zipped_S[0]\n",
    "y = zipped_S[1]\n",
    "plt.scatter(x, y)\n",
    "plt.xlim([-2, 5])\n",
    "plt.ylim([-2, 5])\n",
    "plt.axhline(color=\"black\")\n",
    "plt.vlines(0, -100, 100)\n",
    "plt.title(\"Task 1.4.1\")\n",
    "plt.show()\n"
   ]
  },
  {
   "cell_type": "code",
   "execution_count": 5,
   "metadata": {},
   "outputs": [
    {
     "data": {
      "image/png": "[encoded data removed]",
      "text/plain": [
       "<matplotlib.figure.Figure at 0x74b9150>"
      ]
     },
     "metadata": {},
     "output_type": "display_data"
    }
   ],
   "source": [
    "# Task 1.4.3\n",
    "new_S = {e + 1 + 2j for e in S}\n",
    "zipped_new_S = setZipper(new_S)\n",
    "x1 = zipped_new_S[0]\n",
    "y1 = zipped_new_S[1]\n",
    "# plot(new_S, 4)\n",
    "plt.scatter(x, y)\n",
    "plt.scatter(x1, y1)\n",
    "plt.xlim([-5, 6])\n",
    "plt.ylim([-5, 6])\n",
    "plt.axhline(color=\"black\")\n",
    "plt.vlines(0, -100, 100)\n",
    "plt.title(\"Task 1.4.3\")\n",
    "plt.show()"
   ]
  },
  {
   "cell_type": "markdown",
   "metadata": {},
   "source": [
    "#### Problem 1.4.5: \n",
    "** Show that, for any two distinct points z1 and z2, **\n",
    "\n",
    "1) there is a translation that maps z1 to z2\n",
    "\n",
    "2) there is a translation that maps z2 to z1 and\n",
    "\n",
    "3) there is no translation that both maps z1 to z2 AND z2 to z1"
   ]
  },
  {
   "cell_type": "code",
   "execution_count": 6,
   "metadata": {},
   "outputs": [
    {
     "data": {
      "image/png": "[encoded data removed]",
      "text/plain": [
       "<matplotlib.figure.Figure at 0x7539eb0>"
      ]
     },
     "metadata": {},
     "output_type": "display_data"
    }
   ],
   "source": [
    "# Problem 1.4.6 \n",
    "# represent the complex number z0 = -3 + 3i using two arrows with their tails located at different points\n",
    "z0 = -3 + 3j\n",
    "z1a = 3 - 3j\n",
    "z1b = -1 + 5j\n",
    "\n",
    "# z0 \n",
    "plt.axhline(color=\"black\")\n",
    "\n",
    "#draw the axis lines\n",
    "plt.vlines(0, -100, 100)\n",
    "plt.scatter(z0.real, z0.imag, color=\"black\")\n",
    "\n",
    "#z1a \n",
    "plt.scatter(z1a.real, z1a.imag, color=\"red\")\n",
    "plt.arrow(z1a.real, z1a.imag, z0.real - z1a.real, z0.imag - z1a.imag, color=\"red\", head_width=0.25,\n",
    "          length_includes_head=True)\n",
    "\n",
    "#z1b\n",
    "plt.scatter(z1b.real, z1b.imag)\n",
    "plt.arrow(z1b.real, z1b.imag, z0.real - z1b.real, z0.imag - z1b.imag, color=\"blue\", head_width=0.25,\n",
    "          length_includes_head=True)\n",
    "plt.xlim([-5, 5])\n",
    "plt.ylim([-5, 6])\n",
    "\n",
    "plt.title(\"Representing -3 + 3i with two different arrows\")\n",
    "plt.show()"
   ]
  },
  {
   "cell_type": "code",
   "execution_count": 7,
   "metadata": {},
   "outputs": [
    {
     "data": {
      "image/png": "[encoded data removed]",
      "text/plain": [
       "<matplotlib.figure.Figure at 0x749f990>"
      ]
     },
     "metadata": {},
     "output_type": "display_data"
    }
   ],
   "source": [
    "# Task 1.4.7\n",
    "# Scale the points in S by 1/2\n",
    "scaled_S = {0.5 * s for s in S}\n",
    "points = setZipper(scaled_S)\n",
    "x = points[0]\n",
    "y = points[1]\n",
    "\n",
    "plt.scatter(x, y)\n",
    "plt.xlim([-2, 5])\n",
    "plt.ylim([-2, 5])\n",
    "plt.axhline(color=\"black\")\n",
    "plt.vlines(0, -100, 100)\n",
    "plt.title(\"Task 1.4.7 - Scaled Set\")\n",
    "plt.show()"
   ]
  },
  {
   "cell_type": "code",
   "execution_count": 48,
   "metadata": {},
   "outputs": [
    {
     "data": {
      "image/png": "[encoded data removed]",
      "text/plain": [
       "<matplotlib.figure.Figure at 0x144bf30>"
      ]
     },
     "metadata": {},
     "output_type": "display_data"
    }
   ],
   "source": [
    "# Task 1.4.8\n",
    "# Rotate S by 90 degrees and scale by 1/2\n",
    "scale_rotate_S = {0.5 * (1j * s) for s in S}\n",
    "points = setZipper(scale_rotate_S)\n",
    "x = points[0]\n",
    "y = points[1]\n",
    "\n",
    "# Plot the scaled and rotated points\n",
    "plt.scatter(x, y, color=\"red\")\n",
    "\n",
    "# Plot S again\n",
    "x1 = zipped_S[0]\n",
    "y1 = zipped_S[1]\n",
    "plt.scatter(x1, y1, color=\"blue\")\n",
    "\n",
    "# Set up the chart\n",
    "plt.xlim([-2, 5])\n",
    "plt.ylim([-2, 5])\n",
    "plt.axhline(color=\"black\")\n",
    "plt.vlines(0, -100, 100)\n",
    "plt.title(\"Task 1.4.8 - Scaled and Rotated\")\n",
    "plt.show()"
   ]
  },
  {
   "cell_type": "code",
   "execution_count": 55,
   "metadata": {},
   "outputs": [
    {
     "data": {
      "image/png": "[encoded data removed]",
      "text/plain": [
       "<matplotlib.figure.Figure at 0x765cbb0>"
      ]
     },
     "metadata": {},
     "output_type": "display_data"
    }
   ],
   "source": [
    "# Task 1.4.9\n",
    "# Rotate S by 90 degrees, scale by 1/2, shift down by one unit and to the right by two units\n",
    "\n",
    "# Plot S again\n",
    "plt.scatter(x1, y1, color=\"blue\")\n",
    "\n",
    "# Scale and rotate the points and plot them\n",
    "new_S = {(0.5 * (s * 1j)) + (-1j + 2) for s in S}\n",
    "points = setZipper(new_S)\n",
    "x = points[0]\n",
    "y = points[1]\n",
    "plt.scatter(x, y, color=\"green\")\n",
    "\n",
    "# Set up the chart\n",
    "plt.xlim([-5, 5])\n",
    "plt.ylim([-5, 5])\n",
    "plt.axhline(color=\"black\")\n",
    "plt.vlines(0, -100, 100)\n",
    "plt.title(\"Task 1.4.9 - Scaled and Rotated and Shifted\")\n",
    "plt.show()\n"
   ]
  },
  {
   "cell_type": "code",
   "execution_count": 59,
   "metadata": {},
   "outputs": [],
   "source": [
    "# Task 1.4.9 alternate\n",
    "plot(new_S, 4)"
   ]
  },
  {
   "cell_type": "code",
   "execution_count": 71,
   "metadata": {},
   "outputs": [
    {
     "data": {
      "text/plain": [
       "(177, 177, 177)"
      ]
     },
     "execution_count": 71,
     "metadata": {},
     "output_type": "execute_result"
    }
   ],
   "source": [
    "# Task 1.4.10\n",
    "# file2image returns a list of lists, where data[y][x] == the pixedl intensity at point x,y\n",
    "data = file2image(\"img01.png\")\n",
    "data[50][1]"
   ]
  },
  {
   "cell_type": "code",
   "execution_count": 8,
   "metadata": {},
   "outputs": [],
   "source": [
    "# Task 1.4.11"
   ]
  },
  {
   "cell_type": "code",
   "execution_count": 9,
   "metadata": {},
   "outputs": [],
   "source": [
    "# Task 1.4.12"
   ]
  },
  {
   "cell_type": "code",
   "execution_count": 10,
   "metadata": {},
   "outputs": [],
   "source": [
    "# Task 1.4.13"
   ]
  },
  {
   "cell_type": "code",
   "execution_count": 11,
   "metadata": {},
   "outputs": [],
   "source": [
    "# Task 1.4.17"
   ]
  },
  {
   "cell_type": "code",
   "execution_count": 12,
   "metadata": {},
   "outputs": [],
   "source": [
    "# Task 1.4.18"
   ]
  },
  {
   "cell_type": "code",
   "execution_count": 13,
   "metadata": {},
   "outputs": [],
   "source": [
    "# Task 1.4.19"
   ]
  },
  {
   "cell_type": "code",
   "execution_count": null,
   "metadata": {},
   "outputs": [],
   "source": [
    "# Task 1.4.20"
   ]
  },
  {
   "cell_type": "code",
   "execution_count": 14,
   "metadata": {},
   "outputs": [],
   "source": [
    "# Problem 1.5.1"
   ]
  },
  {
   "cell_type": "code",
   "execution_count": 15,
   "metadata": {},
   "outputs": [],
   "source": [
    "# Problem 1.7.1"
   ]
  },
  {
   "cell_type": "code",
   "execution_count": 16,
   "metadata": {},
   "outputs": [],
   "source": [
    "# Problem 1.7.2"
   ]
  },
  {
   "cell_type": "code",
   "execution_count": 17,
   "metadata": {},
   "outputs": [],
   "source": [
    "# Problem 1.7.3"
   ]
  },
  {
   "cell_type": "code",
   "execution_count": 18,
   "metadata": {},
   "outputs": [],
   "source": [
    "# Problem 1.7.4"
   ]
  },
  {
   "cell_type": "code",
   "execution_count": 19,
   "metadata": {},
   "outputs": [],
   "source": [
    "# Problem 1.7.5"
   ]
  },
  {
   "cell_type": "code",
   "execution_count": 21,
   "metadata": {},
   "outputs": [],
   "source": [
    "# Problem 1.7.6"
   ]
  },
  {
   "cell_type": "code",
   "execution_count": 22,
   "metadata": {},
   "outputs": [],
   "source": [
    "# Problem 1.7.7"
   ]
  },
  {
   "cell_type": "code",
   "execution_count": 23,
   "metadata": {},
   "outputs": [],
   "source": [
    "# Problem 1.7.8"
   ]
  },
  {
   "cell_type": "code",
   "execution_count": 24,
   "metadata": {},
   "outputs": [],
   "source": [
    "# Problem 1.7.9"
   ]
  },
  {
   "cell_type": "code",
   "execution_count": 25,
   "metadata": {},
   "outputs": [],
   "source": [
    "# Problem 1.7.10"
   ]
  },
  {
   "cell_type": "code",
   "execution_count": 26,
   "metadata": {},
   "outputs": [],
   "source": [
    "# Problem 1.7.11"
   ]
  },
  {
   "cell_type": "code",
   "execution_count": 28,
   "metadata": {},
   "outputs": [],
   "source": [
    "# Problem 1.7.12"
   ]
  },
  {
   "cell_type": "code",
   "execution_count": 29,
   "metadata": {},
   "outputs": [],
   "source": [
    "# Problem 1.7.13"
   ]
  },
  {
   "cell_type": "code",
   "execution_count": 30,
   "metadata": {},
   "outputs": [],
   "source": [
    "# Problem 1.7.14"
   ]
  }
 ],
 "metadata": {
  "kernelspec": {
   "display_name": "Python 3",
   "language": "python",
   "name": "python3"
  },
  "language_info": {
   "codemirror_mode": {
    "name": "ipython",
    "version": 3
   },
   "file_extension": ".py",
   "mimetype": "text/x-python",
   "name": "python",
   "nbconvert_exporter": "python",
   "pygments_lexer": "ipython3",
   "version": "3.6.3"
  }
 },
 "nbformat": 4,
 "nbformat_minor": 2
}
